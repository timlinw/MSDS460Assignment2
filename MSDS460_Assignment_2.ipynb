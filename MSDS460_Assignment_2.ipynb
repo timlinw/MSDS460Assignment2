{
 "cells": [
  {
   "cell_type": "code",
   "execution_count": 1,
   "id": "babc9d92-bd0f-4779-a93d-9170fe387504",
   "metadata": {},
   "outputs": [],
   "source": [
    "from pulp import *\n"
   ]
  },
  {
   "cell_type": "code",
   "execution_count": 2,
   "id": "653ee9d9-c128-4869-9524-efd1cbaef464",
   "metadata": {},
   "outputs": [],
   "source": [
    "# Create a dictionary of the activities and their durations\n",
    "#best case\n",
    "activities = {'A':8, 'B':16, 'C':16,'D1':24, 'D2':40, 'D3':40, 'D4':80, 'D5':16,\n",
    "              'D6':24,'D7':32,'D8':16,'E':24,'F':16,'G':24,'H':16}\n"
   ]
  },
  {
   "cell_type": "code",
   "execution_count": 3,
   "id": "cfa1b7c5-4926-4dcd-9078-109ad837f13f",
   "metadata": {},
   "outputs": [],
   "source": [
    "# Create a list of the activities\n",
    "activities_list = list(activities.keys())"
   ]
  },
  {
   "cell_type": "code",
   "execution_count": 4,
   "id": "b2c581a5-9b67-4498-b549-dd69a8457492",
   "metadata": {},
   "outputs": [],
   "source": [
    "# Create a dictionary of the activity precedences\n",
    "precedences = {'A': [], 'B': [], 'C': ['A'],'D1': ['A'], \n",
    "               'D2': ['D1'],'D3': ['D1'], 'D4': ['D2','D3'], 'D5':['D4'],\n",
    "              'D6':['D4'],'D7':['D4'],'D8':['D5','D7'],\n",
    "               'E':['B','C'],'F':['D8','E'],'G':['A','D8'],'H':['F','G']}"
   ]
  },
  {
   "cell_type": "code",
   "execution_count": 5,
   "id": "be3c57e8-274e-4516-bbb5-d143b0a45925",
   "metadata": {},
   "outputs": [],
   "source": [
    "# Create the LP problem\n",
    "prob = LpProblem(\"Critical_Path\", LpMinimize)"
   ]
  },
  {
   "cell_type": "code",
   "execution_count": 6,
   "id": "5100def7-b80b-4dad-8841-32fb3b58839a",
   "metadata": {},
   "outputs": [],
   "source": [
    "# Create the LP variables\n",
    "start_times = {activity: LpVariable(f\"start_{activity}\", 0, None) for activity in\n",
    "activities_list}\n",
    "end_times = {activity: LpVariable(f\"end_{activity}\", 0, None) for activity in\n",
    "activities_list}"
   ]
  },
  {
   "cell_type": "code",
   "execution_count": 7,
   "id": "41683df3-175e-418c-8738-e8e58c7cbafe",
   "metadata": {},
   "outputs": [],
   "source": [
    "# Add the constraints\n",
    "for activity in activities_list:\n",
    "    prob += end_times[activity] == start_times[activity] + activities[activity], f\"{activity}_duration\"\n",
    "    for predecessor in precedences[activity]:\n",
    "        prob += start_times[activity] >= end_times[predecessor], f\"{activity}_predecessor_{predecessor}\""
   ]
  },
  {
   "cell_type": "code",
   "execution_count": 8,
   "id": "14e8fb29-22d0-457d-96dd-45346d9d5dc8",
   "metadata": {},
   "outputs": [],
   "source": [
    "# Set the objective function\n",
    "prob += lpSum([end_times[activity] for activity in activities_list]),\"minimize_end_times\""
   ]
  },
  {
   "cell_type": "code",
   "execution_count": 9,
   "id": "9077bb0a-d138-41a0-9524-76440ffe2fd8",
   "metadata": {},
   "outputs": [
    {
     "name": "stdout",
     "output_type": "stream",
     "text": [
      "Welcome to the CBC MILP Solver \n",
      "Version: 2.10.3 \n",
      "Build Date: Dec 15 2019 \n",
      "\n",
      "command line - /opt/anaconda3/lib/python3.12/site-packages/pulp/solverdir/cbc/osx/64/cbc /var/folders/p4/prvgygc14vd8rmhsv2qx4rxc0000gn/T/3ab1bb8219b842c69e8456536a06be0f-pulp.mps -timeMode elapsed -branch -printingOptions all -solution /var/folders/p4/prvgygc14vd8rmhsv2qx4rxc0000gn/T/3ab1bb8219b842c69e8456536a06be0f-pulp.sol (default strategy 1)\n",
      "At line 2 NAME          MODEL\n",
      "At line 3 ROWS\n",
      "At line 39 COLUMNS\n",
      "At line 123 RHS\n",
      "At line 158 BOUNDS\n",
      "At line 159 ENDATA\n",
      "Problem MODEL has 34 rows, 30 columns and 68 elements\n",
      "Coin0008I MODEL read with 0 errors\n",
      "Option for timeMode changed from cpu to elapsed\n",
      "Presolve 0 (-34) rows, 0 (-30) columns and 0 (-68) elements\n",
      "Empty problem - 0 rows, 0 columns and 0 elements\n",
      "Optimal - objective value 1832\n",
      "After Postsolve, objective 1832, infeasibilities - dual 0 (0), primal 0 (0)\n",
      "Optimal objective 1832 - 0 iterations time 0.002, Presolve 0.00\n",
      "Option for printingOptions changed from normal to all\n",
      "Total time (CPU seconds):       0.00   (Wallclock seconds):       0.01\n",
      "\n"
     ]
    }
   ],
   "source": [
    "# Solve the LP problem\n",
    "status = prob.solve()"
   ]
  },
  {
   "cell_type": "code",
   "execution_count": 10,
   "id": "ea4d0d4f-2653-44a0-99d5-5e643cd38e1f",
   "metadata": {},
   "outputs": [
    {
     "name": "stdout",
     "output_type": "stream",
     "text": [
      "Critical Path time:\n",
      "A starts at time 0\n",
      "B starts at time 0\n",
      "H ends at 240.0 hours in duration\n"
     ]
    }
   ],
   "source": [
    "# Print the results\n",
    "print(\"Critical Path time:\")\n",
    "for activity in activities_list:\n",
    "    if value(start_times[activity]) == 0:\n",
    "        print(f\"{activity} starts at time 0\")\n",
    "    if value(end_times[activity]) == max([value(end_times[activity]) for activity\n",
    "in activities_list]):\n",
    "        print(f\"{activity} ends at {value(end_times[activity])} hours in duration\")"
   ]
  },
  {
   "cell_type": "code",
   "execution_count": 11,
   "id": "83a328a7-f812-48b2-a6d7-58c5eb0a8e49",
   "metadata": {},
   "outputs": [
    {
     "name": "stdout",
     "output_type": "stream",
     "text": [
      "\n",
      "Best Case Solution variable values:\n",
      "end_A = 8.0\n",
      "end_B = 16.0\n",
      "end_C = 24.0\n",
      "end_D1 = 32.0\n",
      "end_D2 = 72.0\n",
      "end_D3 = 72.0\n",
      "end_D4 = 152.0\n",
      "end_D5 = 168.0\n",
      "end_D6 = 176.0\n",
      "end_D7 = 184.0\n",
      "end_D8 = 200.0\n",
      "end_E = 48.0\n",
      "end_F = 216.0\n",
      "end_G = 224.0\n",
      "end_H = 240.0\n",
      "start_A = 0.0\n",
      "start_B = 0.0\n",
      "start_C = 8.0\n",
      "start_D1 = 8.0\n",
      "start_D2 = 32.0\n",
      "start_D3 = 32.0\n",
      "start_D4 = 72.0\n",
      "start_D5 = 152.0\n",
      "start_D6 = 152.0\n",
      "start_D7 = 152.0\n",
      "start_D8 = 184.0\n",
      "start_E = 24.0\n",
      "start_F = 200.0\n",
      "start_G = 200.0\n",
      "start_H = 224.0\n"
     ]
    }
   ],
   "source": [
    "# Print solution\n",
    "print(\"\\nBest Case Solution variable values:\")\n",
    "for var in prob.variables():\n",
    "    if var.name != \"_dummy\":\n",
    "        print(var.name, \"=\", var.varValue)"
   ]
  },
  {
   "cell_type": "markdown",
   "id": "5db42299-e0be-4c5e-af2d-cefd584ffae4",
   "metadata": {},
   "source": [
    "Expectedhours"
   ]
  },
  {
   "cell_type": "code",
   "execution_count": 13,
   "id": "bb186c78-b6b4-482b-9e16-8c151c044516",
   "metadata": {},
   "outputs": [],
   "source": [
    "#expectedhours\n",
    "activities = {'A':16, 'B':24, 'C':24,'D1':32, 'D2':56, 'D3':80, 'D4':120, 'D5':24,\n",
    "              'D6':40,'D7':56,'D8':24,'E':40,'F':24,'G':40,'H':24}"
   ]
  },
  {
   "cell_type": "code",
   "execution_count": 14,
   "id": "38519804-7b2a-4934-902d-c2f898c3cfb7",
   "metadata": {},
   "outputs": [],
   "source": [
    "# Create a list of the activities\n",
    "activities_list = list(activities.keys())"
   ]
  },
  {
   "cell_type": "code",
   "execution_count": 15,
   "id": "b7da4d7b-094b-4a87-8fd8-84b3bb8df48d",
   "metadata": {},
   "outputs": [],
   "source": [
    "# Create a dictionary of the activity precedences\n",
    "precedences = {'A': [], 'B': [], 'C': ['A'],'D1': ['A'], \n",
    "               'D2': ['D1'],'D3': ['D1'], 'D4': ['D2','D3'], 'D5':['D4'],\n",
    "              'D6':['D4'],'D7':['D4'],'D8':['D5','D7'],\n",
    "               'E':['B','C'],'F':['D8','E'],'G':['A','D8'],'H':['F','G']}"
   ]
  },
  {
   "cell_type": "code",
   "execution_count": 16,
   "id": "053517ed-2eb7-411b-94a2-271b9c82b9e5",
   "metadata": {},
   "outputs": [],
   "source": [
    "# Create the LP problem\n",
    "prob = LpProblem(\"Critical_Path\", LpMinimize)"
   ]
  },
  {
   "cell_type": "code",
   "execution_count": 17,
   "id": "317fc3b1-8fb3-42b4-8815-da4bb9541706",
   "metadata": {},
   "outputs": [],
   "source": [
    "# Create the LP variables\n",
    "start_times = {activity: LpVariable(f\"start_{activity}\", 0, None) for activity in activities_list}\n",
    "end_times = {activity: LpVariable(f\"end_{activity}\", 0, None) for activity in activities_list}"
   ]
  },
  {
   "cell_type": "code",
   "execution_count": 18,
   "id": "a1f938c7-a848-4364-ab1b-c06b316a9f5d",
   "metadata": {},
   "outputs": [],
   "source": [
    "# Add the constraints\n",
    "for activity in activities_list:\n",
    "    prob += end_times[activity] == start_times[activity] + activities[activity], f\"{activity}_duration\"\n",
    "    for predecessor in precedences[activity]:\n",
    "        prob += start_times[activity] >= end_times[predecessor], f\"{activity}_predecessor_{predecessor}\""
   ]
  },
  {
   "cell_type": "code",
   "execution_count": 19,
   "id": "4863492d-f529-4382-a16b-9db3dc51fff9",
   "metadata": {},
   "outputs": [],
   "source": [
    "# Set the objective function\n",
    "prob += lpSum([end_times[activity] for activity in activities_list]),\"minimize_end_times\""
   ]
  },
  {
   "cell_type": "code",
   "execution_count": 20,
   "id": "2fa68d2d-c412-44e0-a84f-afe0d44ee6f0",
   "metadata": {},
   "outputs": [
    {
     "name": "stdout",
     "output_type": "stream",
     "text": [
      "Welcome to the CBC MILP Solver \n",
      "Version: 2.10.3 \n",
      "Build Date: Dec 15 2019 \n",
      "\n",
      "command line - /opt/anaconda3/lib/python3.12/site-packages/pulp/solverdir/cbc/osx/64/cbc /var/folders/p4/prvgygc14vd8rmhsv2qx4rxc0000gn/T/b36ddf34356a487f8a4dc99702c9316e-pulp.mps -timeMode elapsed -branch -printingOptions all -solution /var/folders/p4/prvgygc14vd8rmhsv2qx4rxc0000gn/T/b36ddf34356a487f8a4dc99702c9316e-pulp.sol (default strategy 1)\n",
      "At line 2 NAME          MODEL\n",
      "At line 3 ROWS\n",
      "At line 39 COLUMNS\n",
      "At line 123 RHS\n",
      "At line 158 BOUNDS\n",
      "At line 159 ENDATA\n",
      "Problem MODEL has 34 rows, 30 columns and 68 elements\n",
      "Coin0008I MODEL read with 0 errors\n",
      "Option for timeMode changed from cpu to elapsed\n",
      "Presolve 0 (-34) rows, 0 (-30) columns and 0 (-68) elements\n",
      "Empty problem - 0 rows, 0 columns and 0 elements\n",
      "Optimal - objective value 2992\n",
      "After Postsolve, objective 2992, infeasibilities - dual 0 (0), primal 0 (0)\n",
      "Optimal objective 2992 - 0 iterations time 0.002, Presolve 0.00\n",
      "Option for printingOptions changed from normal to all\n",
      "Total time (CPU seconds):       0.00   (Wallclock seconds):       0.01\n",
      "\n"
     ]
    }
   ],
   "source": [
    "# Solve the LP problem\n",
    "status = prob.solve()"
   ]
  },
  {
   "cell_type": "code",
   "execution_count": 21,
   "id": "8c55029b-21d6-4088-804e-f2a4038f2235",
   "metadata": {},
   "outputs": [
    {
     "name": "stdout",
     "output_type": "stream",
     "text": [
      "Critical Path time:\n",
      "A starts at time 0\n",
      "B starts at time 0\n",
      "H ends at 392.0 hours in duration\n"
     ]
    }
   ],
   "source": [
    "# Print the results\n",
    "print(\"Critical Path time:\")\n",
    "for activity in activities_list:\n",
    "    if value(start_times[activity]) == 0:\n",
    "        print(f\"{activity} starts at time 0\")\n",
    "    if value(end_times[activity]) == max([value(end_times[activity]) for activity\n",
    "in activities_list]):\n",
    "        print(f\"{activity} ends at {value(end_times[activity])} hours in duration\")"
   ]
  },
  {
   "cell_type": "code",
   "execution_count": 22,
   "id": "76d86dbc-1c27-4821-9565-92b38e95a249",
   "metadata": {},
   "outputs": [
    {
     "name": "stdout",
     "output_type": "stream",
     "text": [
      "\n",
      "Expected Case Solution variable values:\n",
      "end_A = 16.0\n",
      "end_B = 24.0\n",
      "end_C = 40.0\n",
      "end_D1 = 48.0\n",
      "end_D2 = 104.0\n",
      "end_D3 = 128.0\n",
      "end_D4 = 248.0\n",
      "end_D5 = 272.0\n",
      "end_D6 = 288.0\n",
      "end_D7 = 304.0\n",
      "end_D8 = 328.0\n",
      "end_E = 80.0\n",
      "end_F = 352.0\n",
      "end_G = 368.0\n",
      "end_H = 392.0\n",
      "start_A = 0.0\n",
      "start_B = 0.0\n",
      "start_C = 16.0\n",
      "start_D1 = 16.0\n",
      "start_D2 = 48.0\n",
      "start_D3 = 48.0\n",
      "start_D4 = 128.0\n",
      "start_D5 = 248.0\n",
      "start_D6 = 248.0\n",
      "start_D7 = 248.0\n",
      "start_D8 = 304.0\n",
      "start_E = 40.0\n",
      "start_F = 328.0\n",
      "start_G = 328.0\n",
      "start_H = 368.0\n"
     ]
    }
   ],
   "source": [
    "# Print solution\n",
    "print(\"\\nExpected Case Solution variable values:\")\n",
    "for var in prob.variables():\n",
    "    if var.name != \"_dummy\":\n",
    "        print(var.name, \"=\", var.varValue)"
   ]
  },
  {
   "cell_type": "code",
   "execution_count": 23,
   "id": "68733e7b-ae64-4ead-a43b-027eec469bb8",
   "metadata": {},
   "outputs": [],
   "source": [
    "#worstcase\n",
    "activities = {'A':24, 'B':32, 'C':32,'D1':48, 'D2':80, 'D3':160, 'D4':160, 'D5':32,\n",
    "              'D6':48,'D7':64,'D8':32,'E':48,'F':32,'G':48,'H':32}"
   ]
  },
  {
   "cell_type": "code",
   "execution_count": 24,
   "id": "b05a968b-ce91-47a1-9683-48bc6b4c558a",
   "metadata": {},
   "outputs": [
    {
     "name": "stdout",
     "output_type": "stream",
     "text": [
      "Welcome to the CBC MILP Solver \n",
      "Version: 2.10.3 \n",
      "Build Date: Dec 15 2019 \n",
      "\n",
      "command line - /opt/anaconda3/lib/python3.12/site-packages/pulp/solverdir/cbc/osx/64/cbc /var/folders/p4/prvgygc14vd8rmhsv2qx4rxc0000gn/T/313203c76d3343f996bf589b3e50ae46-pulp.mps -timeMode elapsed -branch -printingOptions all -solution /var/folders/p4/prvgygc14vd8rmhsv2qx4rxc0000gn/T/313203c76d3343f996bf589b3e50ae46-pulp.sol (default strategy 1)\n",
      "At line 2 NAME          MODEL\n",
      "At line 3 ROWS\n",
      "At line 39 COLUMNS\n",
      "At line 123 RHS\n",
      "At line 158 BOUNDS\n",
      "At line 159 ENDATA\n",
      "Problem MODEL has 34 rows, 30 columns and 68 elements\n",
      "Coin0008I MODEL read with 0 errors\n",
      "Option for timeMode changed from cpu to elapsed\n",
      "Presolve 0 (-34) rows, 0 (-30) columns and 0 (-68) elements\n",
      "Empty problem - 0 rows, 0 columns and 0 elements\n",
      "Optimal - objective value 4496\n",
      "After Postsolve, objective 4496, infeasibilities - dual 0 (0), primal 0 (0)\n",
      "Optimal objective 4496 - 0 iterations time 0.002, Presolve 0.00\n",
      "Option for printingOptions changed from normal to all\n",
      "Total time (CPU seconds):       0.00   (Wallclock seconds):       0.01\n",
      "\n"
     ]
    },
    {
     "name": "stderr",
     "output_type": "stream",
     "text": [
      "/opt/anaconda3/lib/python3.12/site-packages/pulp/pulp.py:1298: UserWarning: Spaces are not permitted in the name. Converted to '_'\n",
      "  warnings.warn(\"Spaces are not permitted in the name. Converted to '_'\")\n"
     ]
    }
   ],
   "source": [
    "# Create a list of the activities\n",
    "activities_list = list(activities.keys())\n",
    "# Create a dictionary of the activity precedences\n",
    "precedences = {'A': [], 'B': [], 'C': ['A'],'D1': ['A'], \n",
    "               'D2': ['D1'],'D3': ['D1'], 'D4': ['D2','D3'], 'D5':['D4'],\n",
    "              'D6':['D4'],'D7':['D4'],'D8':['D5','D7'],\n",
    "               'E':['B','C'],'F':['D8','E'],'G':['A','D8'],'H':['F','G']}\n",
    "# Create the LP problem\n",
    "prob = LpProblem(\"Critical_Path\", LpMinimize)\n",
    "# Create the LP variables\n",
    "start_times = {activity: LpVariable(f\"start_{activity}\", 0, None) for activity in activities_list}\n",
    "end_times = {activity: LpVariable(f\"end_{activity}\", 0, None) for activity in activities_list}\n",
    "# Add the constraints\n",
    "for activity in activities_list:\n",
    "    prob += end_times[activity] == start_times[activity] + activities[activity],f\"{activity}_duration\"\n",
    "    for predecessor in precedences[activity]:\n",
    "        prob += start_times[activity] >= end_times[predecessor],f\"{activity}_predecessor_{predecessor}\"\n",
    "# Set the objective function\n",
    "prob += lpSum([end_times[activity] for activity in activities_list]),\"minimize_end_times\"\n",
    "# Solve the LP problem\n",
    "status = prob.solve()"
   ]
  },
  {
   "cell_type": "code",
   "execution_count": 25,
   "id": "3e4f6713-15fa-4a5d-945f-e54f438304cb",
   "metadata": {},
   "outputs": [
    {
     "name": "stdout",
     "output_type": "stream",
     "text": [
      "Critical Path time:\n",
      "A starts at time 0\n",
      "B starts at time 0\n",
      "H ends at 568.0 hours in duration\n"
     ]
    }
   ],
   "source": [
    "# Print the results\n",
    "print(\"Critical Path time:\")\n",
    "for activity in activities_list:\n",
    "    if value(start_times[activity]) == 0:\n",
    "        print(f\"{activity} starts at time 0\")\n",
    "    if value(end_times[activity]) == max([value(end_times[activity]) for activity\n",
    "in activities_list]):\n",
    "        print(f\"{activity} ends at {value(end_times[activity])} hours in duration\")"
   ]
  },
  {
   "cell_type": "code",
   "execution_count": 26,
   "id": "169f1202-1cac-4b14-90b4-ae38d44a26b8",
   "metadata": {},
   "outputs": [
    {
     "name": "stdout",
     "output_type": "stream",
     "text": [
      "\n",
      "Worst Case Solution variable values:\n",
      "end_A = 24.0\n",
      "end_B = 32.0\n",
      "end_C = 56.0\n",
      "end_D1 = 72.0\n",
      "end_D2 = 152.0\n",
      "end_D3 = 232.0\n",
      "end_D4 = 392.0\n",
      "end_D5 = 424.0\n",
      "end_D6 = 440.0\n",
      "end_D7 = 456.0\n",
      "end_D8 = 488.0\n",
      "end_E = 104.0\n",
      "end_F = 520.0\n",
      "end_G = 536.0\n",
      "end_H = 568.0\n",
      "start_A = 0.0\n",
      "start_B = 0.0\n",
      "start_C = 24.0\n",
      "start_D1 = 24.0\n",
      "start_D2 = 72.0\n",
      "start_D3 = 72.0\n",
      "start_D4 = 232.0\n",
      "start_D5 = 392.0\n",
      "start_D6 = 392.0\n",
      "start_D7 = 392.0\n",
      "start_D8 = 456.0\n",
      "start_E = 56.0\n",
      "start_F = 488.0\n",
      "start_G = 488.0\n",
      "start_H = 536.0\n"
     ]
    }
   ],
   "source": [
    "# Print solution\n",
    "print(\"\\nWorst Case Solution variable values:\")\n",
    "for var in prob.variables():\n",
    "    if var.name != \"_dummy\":\n",
    "        print(var.name, \"=\", var.varValue)"
   ]
  },
  {
   "cell_type": "code",
   "execution_count": null,
   "id": "cb9987cc-94fd-4bb7-8b17-bd1d404adaa2",
   "metadata": {},
   "outputs": [],
   "source": []
  }
 ],
 "metadata": {
  "kernelspec": {
   "display_name": "Python 3 (ipykernel)",
   "language": "python",
   "name": "python3"
  },
  "language_info": {
   "codemirror_mode": {
    "name": "ipython",
    "version": 3
   },
   "file_extension": ".py",
   "mimetype": "text/x-python",
   "name": "python",
   "nbconvert_exporter": "python",
   "pygments_lexer": "ipython3",
   "version": "3.12.4"
  }
 },
 "nbformat": 4,
 "nbformat_minor": 5
}
